{
 "cells": [
  {
   "cell_type": "code",
   "execution_count": 8,
   "metadata": {},
   "outputs": [],
   "source": [
    "# Imports\n",
    "from torch.utils.data import DataLoader, Dataset\n",
    "import torchvision.transforms as T\n",
    "import torchvision\n",
    "import torch\n",
    "import torch.nn as nn\n",
    "from torchvision.utils import make_grid\n",
    "from torchvision.utils import save_image\n",
    "from IPython.display import Image\n",
    "import matplotlib.pyplot as plt\n",
    "import numpy as np\n",
    "import os\n",
    "import random\n",
    "%matplotlib inline\n"
   ]
  },
  {
   "cell_type": "code",
   "execution_count": 9,
   "metadata": {},
   "outputs": [],
   "source": [
    "# Actual Dataloader\n",
    "\n",
    "base_path = \"images/\"\n",
    "train_path = \"train-small/\"\n",
    "test_path = \"test/\"\n",
    "batch_size = 64\n",
    "\n",
    "tranform_tensor = transform = T.Compose([\n",
    "    # you can add other transformations in this list\n",
    "    T.ToTensor(),\n",
    "    T.RandomHorizontalFlip(p=0.5),\n",
    "    T.RandomVerticalFlip(p=0.5),\n",
    "    T.RandomAdjustSharpness(sharpness_factor=1.2, p=0.3)\n",
    "])\n",
    "\n",
    "tranform_j_tensor = transform = T.Compose([\n",
    "    # you can add other transformations in this list\n",
    "    T.ToTensor()\n",
    "])\n",
    "\n",
    "train_set = torchvision.datasets.ImageFolder(root=base_path + train_path, transform=tranform_tensor)\n",
    "train_loader = torch.utils.data.DataLoader(dataset=train_set,\n",
    "                                           batch_size=batch_size,\n",
    "                                           shuffle=True)\n",
    "\n",
    "test_set = torchvision.datasets.ImageFolder(root=base_path + test_path, transform=tranform_j_tensor)\n",
    "test_loader = torch.utils.data.DataLoader(dataset=test_set,\n",
    "                                           batch_size=batch_size,\n",
    "                                           shuffle=False)\n",
    "\n",
    "\n"
   ]
  },
  {
   "cell_type": "code",
   "execution_count": 10,
   "metadata": {},
   "outputs": [
    {
     "name": "stderr",
     "output_type": "stream",
     "text": [
      "  0%|          | 0/20 [00:00<?, ?it/s]"
     ]
    },
    {
     "name": "stderr",
     "output_type": "stream",
     "text": [
      "  5%|▌         | 1/20 [00:08<02:50,  8.97s/it]"
     ]
    },
    {
     "name": "stdout",
     "output_type": "stream",
     "text": [
      "Epoch 1/20tensor(0.5234)\n"
     ]
    },
    {
     "name": "stderr",
     "output_type": "stream",
     "text": [
      " 10%|█         | 2/20 [00:17<02:39,  8.83s/it]"
     ]
    },
    {
     "name": "stdout",
     "output_type": "stream",
     "text": [
      "Epoch 2/20tensor(0.5395)\n"
     ]
    },
    {
     "name": "stderr",
     "output_type": "stream",
     "text": [
      " 15%|█▌        | 3/20 [00:25<02:27,  8.68s/it]"
     ]
    },
    {
     "name": "stdout",
     "output_type": "stream",
     "text": [
      "Epoch 3/20tensor(0.3245)\n"
     ]
    },
    {
     "name": "stderr",
     "output_type": "stream",
     "text": [
      " 20%|██        | 4/20 [00:34<02:17,  8.60s/it]"
     ]
    },
    {
     "name": "stdout",
     "output_type": "stream",
     "text": [
      "Epoch 4/20tensor(0.2421)\n"
     ]
    },
    {
     "name": "stderr",
     "output_type": "stream",
     "text": [
      " 25%|██▌       | 5/20 [00:42<02:07,  8.52s/it]"
     ]
    },
    {
     "name": "stdout",
     "output_type": "stream",
     "text": [
      "Epoch 5/20tensor(0.3583)\n"
     ]
    },
    {
     "name": "stderr",
     "output_type": "stream",
     "text": [
      " 30%|███       | 6/20 [00:50<01:58,  8.48s/it]"
     ]
    },
    {
     "name": "stdout",
     "output_type": "stream",
     "text": [
      "Epoch 6/20tensor(0.3860)\n"
     ]
    },
    {
     "name": "stderr",
     "output_type": "stream",
     "text": [
      " 35%|███▌      | 7/20 [00:59<01:49,  8.44s/it]"
     ]
    },
    {
     "name": "stdout",
     "output_type": "stream",
     "text": [
      "Epoch 7/20tensor(0.2523)\n"
     ]
    },
    {
     "name": "stderr",
     "output_type": "stream",
     "text": [
      " 40%|████      | 8/20 [01:07<01:40,  8.41s/it]"
     ]
    },
    {
     "name": "stdout",
     "output_type": "stream",
     "text": [
      "Epoch 8/20tensor(0.1877)\n"
     ]
    },
    {
     "name": "stderr",
     "output_type": "stream",
     "text": [
      " 45%|████▌     | 9/20 [01:16<01:32,  8.41s/it]"
     ]
    },
    {
     "name": "stdout",
     "output_type": "stream",
     "text": [
      "Epoch 9/20tensor(0.1334)\n"
     ]
    },
    {
     "name": "stderr",
     "output_type": "stream",
     "text": [
      " 50%|█████     | 10/20 [01:24<01:23,  8.39s/it]"
     ]
    },
    {
     "name": "stdout",
     "output_type": "stream",
     "text": [
      "Epoch 10/20tensor(0.3760)\n"
     ]
    },
    {
     "name": "stderr",
     "output_type": "stream",
     "text": [
      " 55%|█████▌    | 11/20 [01:32<01:15,  8.40s/it]"
     ]
    },
    {
     "name": "stdout",
     "output_type": "stream",
     "text": [
      "Epoch 11/20tensor(0.2127)\n"
     ]
    },
    {
     "name": "stderr",
     "output_type": "stream",
     "text": [
      " 60%|██████    | 12/20 [01:41<01:07,  8.39s/it]"
     ]
    },
    {
     "name": "stdout",
     "output_type": "stream",
     "text": [
      "Epoch 12/20tensor(0.1110)\n"
     ]
    },
    {
     "name": "stderr",
     "output_type": "stream",
     "text": [
      " 65%|██████▌   | 13/20 [01:49<00:58,  8.38s/it]"
     ]
    },
    {
     "name": "stdout",
     "output_type": "stream",
     "text": [
      "Epoch 13/20tensor(0.1715)\n"
     ]
    },
    {
     "name": "stderr",
     "output_type": "stream",
     "text": [
      " 70%|███████   | 14/20 [01:57<00:50,  8.39s/it]"
     ]
    },
    {
     "name": "stdout",
     "output_type": "stream",
     "text": [
      "Epoch 14/20tensor(0.2029)\n"
     ]
    },
    {
     "name": "stderr",
     "output_type": "stream",
     "text": [
      " 75%|███████▌  | 15/20 [02:06<00:41,  8.38s/it]"
     ]
    },
    {
     "name": "stdout",
     "output_type": "stream",
     "text": [
      "Epoch 15/20tensor(0.1617)\n"
     ]
    },
    {
     "name": "stderr",
     "output_type": "stream",
     "text": [
      " 80%|████████  | 16/20 [02:14<00:33,  8.41s/it]"
     ]
    },
    {
     "name": "stdout",
     "output_type": "stream",
     "text": [
      "Epoch 16/20tensor(0.1363)\n"
     ]
    },
    {
     "name": "stderr",
     "output_type": "stream",
     "text": [
      " 85%|████████▌ | 17/20 [02:23<00:25,  8.40s/it]"
     ]
    },
    {
     "name": "stdout",
     "output_type": "stream",
     "text": [
      "Epoch 17/20tensor(0.1103)\n"
     ]
    },
    {
     "name": "stderr",
     "output_type": "stream",
     "text": [
      " 90%|█████████ | 18/20 [02:31<00:16,  8.39s/it]"
     ]
    },
    {
     "name": "stdout",
     "output_type": "stream",
     "text": [
      "Epoch 18/20tensor(0.1550)\n"
     ]
    },
    {
     "name": "stderr",
     "output_type": "stream",
     "text": [
      " 95%|█████████▌| 19/20 [02:39<00:08,  8.39s/it]"
     ]
    },
    {
     "name": "stdout",
     "output_type": "stream",
     "text": [
      "Epoch 19/20tensor(0.0721)\n"
     ]
    },
    {
     "name": "stderr",
     "output_type": "stream",
     "text": [
      "100%|██████████| 20/20 [02:48<00:00,  8.41s/it]"
     ]
    },
    {
     "name": "stdout",
     "output_type": "stream",
     "text": [
      "Epoch 20/20tensor(0.1542)\n"
     ]
    },
    {
     "name": "stderr",
     "output_type": "stream",
     "text": [
      "\n"
     ]
    }
   ],
   "source": [
    "# Good Model Training\n",
    "\n",
    "from model_2 import FakeNet2\n",
    "from tqdm import tqdm\n",
    "\n",
    "\n",
    "# initialize parameters\n",
    "cnn = FakeNet2()\n",
    "cnn.train()\n",
    "iterations = 20\n",
    "learning_rate = 0.001 \n",
    "\n",
    "criterion = nn.BCELoss()\n",
    "optimizer = torch.optim.Adam(cnn.parameters(), lr=learning_rate)\n",
    "\n",
    "# Train the Model\n",
    "for epoch in tqdm(range(iterations)):\n",
    "    for i, (images, labels) in enumerate(train_loader):\n",
    "        \n",
    "        # Forward + Backward + Optimize\n",
    "        optimizer.zero_grad()\n",
    "        outputs = cnn(images)\n",
    "        labels = labels.unsqueeze(1).float()\n",
    "        loss = criterion(outputs,labels)\n",
    "        loss.backward()\n",
    "        optimizer.step()\n",
    "\n",
    "        if (i+1)%31 == 0:\n",
    "            print(\"Epoch \" + str(epoch+1) + \"/\" + str(iterations) + str(loss.data))\n"
   ]
  },
  {
   "cell_type": "code",
   "execution_count": 11,
   "metadata": {},
   "outputs": [],
   "source": [
    "# # NEW MODELS\n",
    "\n",
    "# from model import FakeNet\n",
    "# from tqdm import tqdm\n",
    "\n",
    "\n",
    "\n",
    "# # initialize parameters\n",
    "# cnn = FakeNet()\n",
    "# cnn.train()\n",
    "# iterations = 20\n",
    "# learning_rate = 0.001 \n",
    "\n",
    "# criterion = nn.BCELoss()\n",
    "# optimizer = torch.optim.Adam(cnn.parameters(), lr=learning_rate)\n",
    "\n",
    "# # Train the Model\n",
    "# for epoch in tqdm(range(iterations)):\n",
    "#     for i, (images, labels) in enumerate(train_loader):\n",
    "        \n",
    "#         # Forward + Backward + Optimize\n",
    "#         optimizer.zero_grad()\n",
    "#         outputs = cnn(images)\n",
    "#         labels = labels.unsqueeze(1).float()\n",
    "#         loss = criterion(outputs,labels)\n",
    "#         loss.backward()\n",
    "#         optimizer.step()\n",
    "\n",
    "#         if (i+1)%31 == 0:\n",
    "#             print(\"Epoch \" + str(epoch+1) + \"/\" + str(iterations) + str(loss.data))"
   ]
  },
  {
   "cell_type": "code",
   "execution_count": 12,
   "metadata": {},
   "outputs": [
    {
     "name": "stdout",
     "output_type": "stream",
     "text": [
      "Correct:  220 , Total:  256\n",
      "Correct:  430 , Total:  512\n",
      "Correct:  646 , Total:  768\n",
      "Correct:  872 , Total:  1024\n",
      "Correct:  1086 , Total:  1280\n",
      "Correct:  1315 , Total:  1536\n",
      "Correct:  1536 , Total:  1792\n",
      "Correct:  1755 , Total:  2048\n",
      "Correct:  1966 , Total:  2304\n",
      "Correct:  2184 , Total:  2560\n",
      "Correct:  2407 , Total:  2816\n",
      "Correct:  2623 , Total:  3072\n",
      "Correct:  2844 , Total:  3328\n",
      "Correct:  3061 , Total:  3584\n",
      "Correct:  3283 , Total:  3840\n",
      "Correct:  3501 , Total:  4096\n",
      "Correct:  3729 , Total:  4352\n",
      "Correct:  3934 , Total:  4608\n",
      "Correct:  4151 , Total:  4864\n",
      "Correct:  4365 , Total:  5120\n",
      "Correct:  4586 , Total:  5376\n",
      "Correct:  4807 , Total:  5632\n",
      "Correct:  5029 , Total:  5888\n",
      "Correct:  5255 , Total:  6144\n",
      "Correct:  5482 , Total:  6400\n",
      "Correct:  5705 , Total:  6656\n",
      "Correct:  5920 , Total:  6912\n",
      "Correct:  6141 , Total:  7168\n",
      "Correct:  6354 , Total:  7424\n",
      "Correct:  6567 , Total:  7680\n",
      "Correct:  6781 , Total:  7936\n",
      "Correct:  7001 , Total:  8192\n",
      "Correct:  7217 , Total:  8448\n",
      "Correct:  7434 , Total:  8704\n",
      "Correct:  7664 , Total:  8960\n",
      "Correct:  7886 , Total:  9216\n",
      "Correct:  8106 , Total:  9472\n",
      "Correct:  8312 , Total:  9728\n",
      "Correct:  8529 , Total:  9984\n",
      "Correct:  8755 , Total:  10240\n",
      "Correct:  8987 , Total:  10496\n",
      "Correct:  9210 , Total:  10752\n",
      "Correct:  9439 , Total:  11008\n",
      "Correct:  9653 , Total:  11264\n",
      "Correct:  9874 , Total:  11520\n",
      "Correct:  10099 , Total:  11776\n",
      "Correct:  10322 , Total:  12032\n",
      "Correct:  10545 , Total:  12288\n",
      "Correct:  10765 , Total:  12544\n",
      "Correct:  10991 , Total:  12800\n",
      "Correct:  11215 , Total:  13056\n",
      "Correct:  11435 , Total:  13312\n",
      "Correct:  11659 , Total:  13568\n",
      "Correct:  11878 , Total:  13824\n",
      "Correct:  12100 , Total:  14080\n",
      "Correct:  12324 , Total:  14336\n",
      "Correct:  12545 , Total:  14592\n",
      "Correct:  12770 , Total:  14848\n",
      "Correct:  12983 , Total:  15104\n",
      "Correct:  13217 , Total:  15360\n",
      "Correct:  13448 , Total:  15616\n",
      "Correct:  13680 , Total:  15872\n",
      "Correct:  13904 , Total:  16128\n",
      "Correct:  14131 , Total:  16384\n",
      "Correct:  14349 , Total:  16640\n",
      "Correct:  14579 , Total:  16896\n",
      "Correct:  14793 , Total:  17152\n",
      "Correct:  15022 , Total:  17408\n",
      "Correct:  15246 , Total:  17664\n",
      "Correct:  15477 , Total:  17920\n",
      "Correct:  15703 , Total:  18176\n",
      "Correct:  15923 , Total:  18432\n",
      "Correct:  16146 , Total:  18688\n",
      "Correct:  16374 , Total:  18944\n",
      "Correct:  16597 , Total:  19200\n",
      "Correct:  16823 , Total:  19456\n",
      "Correct:  17051 , Total:  19712\n",
      "Correct:  17272 , Total:  19968\n",
      "Test Accuracy of the model on test images: 86.485000%\n"
     ]
    }
   ],
   "source": [
    "# Model Evaluation\n",
    "\n",
    "cnn.eval()  # Change model to 'eval' mode (BN uses moving mean/var)\n",
    "correct = 0\n",
    "total = 0\n",
    "\n",
    "for images, labels in test_loader:\n",
    "    outputs = cnn(images)\n",
    "    predicted = torch.round(outputs.data)\n",
    "    total += labels.size(0)\n",
    "    correct += (predicted.numpy().T == np.array(labels)).sum()\n",
    "    if total % 256 == 0:\n",
    "        print(\"Correct: \", correct, \", Total: \", total)\n",
    "        \n",
    "print('Test Accuracy of the model on test images: %.6f%%' % (100.0*correct/total))\n"
   ]
  },
  {
   "cell_type": "code",
   "execution_count": 14,
   "metadata": {},
   "outputs": [
    {
     "name": "stdout",
     "output_type": "stream",
     "text": [
      "Shape of training data: (20000, 32, 32, 3)\n",
      "Data type: <class 'numpy.ndarray'>\n"
     ]
    }
   ],
   "source": [
    "# Loads data for trying the model on an image\n",
    "\n",
    "list_tl = list(test_loader)\n",
    "\n",
    "image_size = 32\n",
    "\n",
    "path_real = 'images/test/REAL/'\n",
    "img_names_real = os.listdir(path_real)\n",
    "\n",
    "path_fake = 'images/test/FAKE/'\n",
    "img_names_fake = os.listdir(path_fake)\n",
    "\n",
    "batch_size = 10000\n",
    "\n",
    "\n",
    "X_test_real = []\n",
    "X_test_fake = []\n",
    "for i in range(batch_size):\n",
    "    name_real = img_names_real[i]\n",
    "    img_name = path_real + name_real\n",
    "    image = plt.imread(img_name)\n",
    "    X_test_real.append(image)\n",
    "\n",
    "    name_fake = img_names_fake[i]\n",
    "    img_name = path_fake + name_fake\n",
    "    image = plt.imread(img_name)\n",
    "    X_test_fake.append(image)\n",
    "\n",
    "test_imgs = X_test_real + X_test_fake\n",
    "test_imgs = np.array(test_imgs)\n",
    "print(f\"Shape of training data: {test_imgs.shape}\")\n",
    "print(f\"Data type: {type(test_imgs)}\")\n"
   ]
  },
  {
   "cell_type": "code",
   "execution_count": 22,
   "metadata": {},
   "outputs": [
    {
     "data": {
      "text/plain": [
       "Text(0.5, 1.0, 'Actual Label: Real\\nPredicted Label: Fake\\nImage Number: 4894')"
      ]
     },
     "execution_count": 22,
     "metadata": {},
     "output_type": "execute_result"
    },
    {
     "data": {
      "image/png": "[encoded data removed]",
      "text/plain": [
       "<Figure size 432x288 with 1 Axes>"
      ]
     },
     "metadata": {
      "needs_background": "light"
     },
     "output_type": "display_data"
    }
   ],
   "source": [
    "# This is where you test the model on images. The commented indices depending on model should fail\n",
    "# in different ways to predict correctly\n",
    "\n",
    "img_index = np.random.randint(10000, len(test_set))\n",
    "# img_index = 4894\n",
    "# img_index = 10755\n",
    "real_label = \"Real\" if img_index < 10000 else \"Fake\"\n",
    "predicted_label = torch.round(cnn(list_tl[img_index // 64][0]))[img_index % 64].detach().numpy()[0]\n",
    "predicted_label = \"Real\" if predicted_label < 0.5 else \"Fake\"\n",
    "\n",
    "plt.imshow(test_imgs[img_index])\n",
    "plt.title(\"Actual Label: \" + real_label + \"\\nPredicted Label: \"\n",
    "          + predicted_label + \"\\nImage Number: \" + str(img_index))\n"
   ]
  },
  {
   "cell_type": "code",
   "execution_count": 18,
   "metadata": {},
   "outputs": [
    {
     "name": "stdout",
     "output_type": "stream",
     "text": [
      "Shape of training data: (1000, 32, 32, 3)\n",
      "Data type: <class 'numpy.ndarray'>\n"
     ]
    }
   ],
   "source": [
    "# This is to set up image viewing\n",
    "\n",
    "image_size = 32\n",
    "\n",
    "path_real = 'images/train/REAL/'\n",
    "img_names_real = os.listdir(path_real)\n",
    "\n",
    "path_fake = 'images/train/FAKE/'\n",
    "img_names_fake = os.listdir(path_fake)\n",
    "\n",
    "batch_size = 1000\n",
    "\n",
    "\n",
    "X_train_real = []\n",
    "X_train_fake = []\n",
    "for i in range(batch_size):\n",
    "    name_real = img_names_real[i]\n",
    "    img_name = path_real + name_real\n",
    "    image = plt.imread(img_name)\n",
    "    X_train_real.append(image)\n",
    "\n",
    "    name_fake = img_names_fake[i]\n",
    "    img_name = path_fake + name_fake\n",
    "    image = plt.imread(img_name)\n",
    "    X_train_fake.append(image)\n",
    "\n",
    "X_train_real = np.array(X_train_real)\n",
    "X_train_fake = np.array(X_train_fake)\n",
    "print(f\"Shape of training data: {X_train_real.shape}\")\n",
    "print(f\"Data type: {type(X_train_real)}\")"
   ]
  },
  {
   "cell_type": "code",
   "execution_count": 20,
   "metadata": {},
   "outputs": [
    {
     "data": {
      "text/plain": [
       "Text(0.5, 1.0, 'Image Number Fake: 824')"
      ]
     },
     "execution_count": 20,
     "metadata": {},
     "output_type": "execute_result"
    },
    {
     "data": {
      "image/png": "[encoded data removed]",
      "text/plain": [
       "<Figure size 432x288 with 4 Axes>"
      ]
     },
     "metadata": {
      "needs_background": "light"
     },
     "output_type": "display_data"
    }
   ],
   "source": [
    "# This is to actually show some images\n",
    "\n",
    "\n",
    "img_index = np.random.randint(0, batch_size)\n",
    "img_2_index = np.random.randint(0, batch_size)\n",
    "\n",
    "\n",
    "figure, axis = plt.subplots(2, 2) \n",
    "\n",
    "axis[0, 0].imshow(X_train_real[img_index], interpolation='nearest')\n",
    "axis[0, 0].set_title(\"Image Number Real: \" + str(img_index)) \n",
    "  \n",
    "axis[0, 1].imshow(X_train_fake[img_index], interpolation='nearest')\n",
    "axis[0, 1].set_title(\"Image Number Fake: \" + str(img_index)) \n",
    "  \n",
    "axis[1, 0].imshow(X_train_real[img_2_index], interpolation='nearest')\n",
    "axis[1, 0].set_title(\"Image Number Real: \" + str(img_2_index)) \n",
    "  \n",
    "axis[1, 1].imshow(X_train_fake[img_2_index], interpolation='nearest')\n",
    "axis[1, 1].set_title(\"Image Number Fake: \" + str(img_2_index)) \n"
   ]
  }
 ],
 "metadata": {
  "kernelspec": {
   "display_name": "Python 3",
   "language": "python",
   "name": "python3"
  },
  "language_info": {
   "codemirror_mode": {
    "name": "ipython",
    "version": 3
   },
   "file_extension": ".py",
   "mimetype": "text/x-python",
   "name": "python",
   "nbconvert_exporter": "python",
   "pygments_lexer": "ipython3",
   "version": "3.9.6"
  }
 },
 "nbformat": 4,
 "nbformat_minor": 2
}
